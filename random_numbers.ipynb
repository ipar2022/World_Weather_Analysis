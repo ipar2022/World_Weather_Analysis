{
 "cells": [
  {
   "cell_type": "code",
   "execution_count": 33,
   "id": "9e3742bd",
   "metadata": {},
   "outputs": [],
   "source": [
    "# Import the random module.\n",
    "import random\n"
   ]
  },
  {
   "cell_type": "code",
   "execution_count": 34,
   "id": "1cc9c586",
   "metadata": {},
   "outputs": [
    {
     "data": {
      "text/plain": [
       "-58"
      ]
     },
     "execution_count": 34,
     "metadata": {},
     "output_type": "execute_result"
    }
   ],
   "source": [
    "# Generating a single interger\n",
    "random.randint(-90,90)"
   ]
  },
  {
   "cell_type": "code",
   "execution_count": 35,
   "id": "d673fbb2",
   "metadata": {},
   "outputs": [
    {
     "data": {
      "text/plain": [
       "0.7477350276410835"
      ]
     },
     "execution_count": 35,
     "metadata": {},
     "output_type": "execute_result"
    }
   ],
   "source": [
    "# Generating a single floating-point decimal number between 0 and 1.0.\n",
    "random.random()"
   ]
  },
  {
   "cell_type": "code",
   "execution_count": 36,
   "id": "4a3e5523",
   "metadata": {},
   "outputs": [
    {
     "data": {
      "text/plain": [
       "19.130693091394082"
      ]
     },
     "execution_count": 36,
     "metadata": {},
     "output_type": "execute_result"
    }
   ],
   "source": [
    "# Generating ten random floating-point decimal latitudes between -90 and 89.\n",
    "                    #int = interger\n",
    "random_number = random.randint(-90, 89) + random.random()\n",
    "random_number"
   ]
  },
  {
   "cell_type": "code",
   "execution_count": 37,
   "id": "a521c3ea",
   "metadata": {
    "scrolled": true
   },
   "outputs": [],
   "source": [
    "# Writing an algorithm that will generate latitudes between -90 and 89.\n",
    "# This will generate ten random floating-point decimal latitudes between -90 and 89.\n",
    "x = 1\n",
    "latitudes = []\n",
    "while x < 11:\n",
    "    random_lat = random.randint(-90, 89) + random.random()\n",
    "    latitudes.append(random_lat)\n",
    "    x += 1\n",
    "    "
   ]
  },
  {
   "cell_type": "code",
   "execution_count": 38,
   "id": "58bea999",
   "metadata": {},
   "outputs": [
    {
     "data": {
      "text/plain": [
       "[-39.816090048763485,\n",
       " 29.668929294396374,\n",
       " 35.732658743997554,\n",
       " -58.764779140561885,\n",
       " -39.5685816325217,\n",
       " -69.36696909499955,\n",
       " 41.39864439512398,\n",
       " -29.24249512513485,\n",
       " -29.631292859806383,\n",
       " 76.06363104726276]"
      ]
     },
     "execution_count": 38,
     "metadata": {},
     "output_type": "execute_result"
    }
   ],
   "source": [
    "latitudes"
   ]
  },
  {
   "cell_type": "code",
   "execution_count": 39,
   "id": "8e710ef3",
   "metadata": {},
   "outputs": [
    {
     "data": {
      "text/plain": [
       "-38"
      ]
     },
     "execution_count": 39,
     "metadata": {},
     "output_type": "execute_result"
    }
   ],
   "source": [
    "# Generating increments of a given integer value, from the lower to the upper limit.\n",
    "random.randrange(-90, 90, step=1)"
   ]
  },
  {
   "cell_type": "code",
   "execution_count": 40,
   "id": "45fd3334",
   "metadata": {},
   "outputs": [
    {
     "data": {
      "text/plain": [
       "57"
      ]
     },
     "execution_count": 40,
     "metadata": {},
     "output_type": "execute_result"
    }
   ],
   "source": [
    "# Adding step parameter to:\n",
    "random.randrange(-90, 90, step=3)"
   ]
  },
  {
   "cell_type": "code",
   "execution_count": 41,
   "id": "efdc21fb",
   "metadata": {},
   "outputs": [
    {
     "data": {
      "text/plain": [
       "-88.98898808349794"
      ]
     },
     "execution_count": 41,
     "metadata": {},
     "output_type": "execute_result"
    }
   ],
   "source": [
    "# Generating a floating-point decimal number between two given numbers inside the parentheses\n",
    "random.uniform(-90, 90)"
   ]
  },
  {
   "cell_type": "code",
   "execution_count": 42,
   "id": "c6b1abf6",
   "metadata": {},
   "outputs": [],
   "source": [
    "# Import the NumPy module.\n",
    "import numpy as np"
   ]
  },
  {
   "cell_type": "code",
   "execution_count": 43,
   "id": "b972a05a",
   "metadata": {},
   "outputs": [
    {
     "data": {
      "text/plain": [
       "-11.706884630157873"
      ]
     },
     "execution_count": 43,
     "metadata": {},
     "output_type": "execute_result"
    }
   ],
   "source": [
    "# Generating a floating-point decimal number between -90.000 and 90.000\n",
    "np.random.uniform(-90.000, 90.000)\n"
   ]
  },
  {
   "cell_type": "code",
   "execution_count": 44,
   "id": "3d914df6",
   "metadata": {},
   "outputs": [
    {
     "data": {
      "text/plain": [
       "5.582290169834764"
      ]
     },
     "execution_count": 44,
     "metadata": {},
     "output_type": "execute_result"
    }
   ],
   "source": [
    "# Another option to write the parameter:\n",
    "np.random.uniform(low=-90, high=90)"
   ]
  },
  {
   "cell_type": "code",
   "execution_count": 45,
   "id": "5714970e",
   "metadata": {},
   "outputs": [
    {
     "data": {
      "text/plain": [
       "array([ 87.49226272, -79.11999054, -64.40789844, -57.20657406,\n",
       "        82.56436068, -88.75391314,  81.42270576,   2.80533884,\n",
       "       -14.06215576, -16.97477239,  21.46698554,  84.77798485,\n",
       "        -6.76283025,  52.90527088, -66.73653276,  86.88980127,\n",
       "        25.02537608, -22.62148373, -68.67190372, -64.84611989,\n",
       "       -53.79578122, -61.94155751,   8.4817039 ,  49.80196108,\n",
       "        18.22094168,  -8.49149439,  47.0057144 ,  41.89327093,\n",
       "       -11.26194918, -29.52766507,  25.06436243, -70.93600099,\n",
       "       -46.29914231,  27.50151157,  78.39480785,  22.6191235 ,\n",
       "       -74.60227046,  -0.57786858, -36.37078006, -22.68399362,\n",
       "        79.50911752, -39.67973226,  -3.36306618,  84.63544847,\n",
       "       -39.78351378, -86.84509064,   5.00172884,  63.75295726,\n",
       "        67.59742331, -51.6465942 ])"
      ]
     },
     "execution_count": 45,
     "metadata": {},
     "output_type": "execute_result"
    }
   ],
   "source": [
    "# Another option is to write the parameters as\n",
    "np.random.uniform(-90.000, 90.000, size=50)"
   ]
  },
  {
   "cell_type": "code",
   "execution_count": 46,
   "id": "b0e4f5c9",
   "metadata": {},
   "outputs": [],
   "source": [
    "# Import timeit.\n",
    "import timeit"
   ]
  },
  {
   "cell_type": "code",
   "execution_count": 47,
   "id": "e3fd68dd",
   "metadata": {},
   "outputs": [
    {
     "name": "stdout",
     "output_type": "stream",
     "text": [
      "10.2 µs ± 1.39 µs per loop (mean ± std. dev. of 7 runs, 100,000 loops each)\n"
     ]
    }
   ],
   "source": [
    "# Adding the %timeit magic command before np.random.uniform\n",
    "%timeit np.random.uniform(-90.000, 90.000, size=1500)"
   ]
  },
  {
   "cell_type": "code",
   "execution_count": 53,
   "id": "8b8edd09",
   "metadata": {},
   "outputs": [
    {
     "name": "stdout",
     "output_type": "stream",
     "text": [
      "838 µs ± 72.7 µs per loop (mean ± std. dev. of 7 runs, 1,000 loops each)\n"
     ]
    }
   ],
   "source": [
    "def latitudes(size):\n",
    "    latitudes = []\n",
    "    x = 0\n",
    "    while x < (size):\n",
    "        random_lat = random.randint(-90, 90) + random.random()\n",
    "        latitudes.append(random_lat)\n",
    "        x += 1\n",
    "    return latitudes\n",
    "# Call the function with 1500.\n",
    "%timeit latitudes(1500)"
   ]
  },
  {
   "cell_type": "code",
   "execution_count": 56,
   "id": "1ded60a1",
   "metadata": {},
   "outputs": [
    {
     "data": {
      "text/plain": [
       "array([ 33.74896895,  11.06925986, -54.93683246, ..., -71.42932921,\n",
       "        76.61122967,   2.06837357])"
      ]
     },
     "execution_count": 56,
     "metadata": {},
     "output_type": "execute_result"
    }
   ],
   "source": [
    "# 100 times faster than using the function, and uses one line,\n",
    "# where as the function uses eight lines!\n",
    "np.random.uniform(-90.000, 90.000, size=1500)"
   ]
  },
  {
   "cell_type": "code",
   "execution_count": 58,
   "id": "11d63a77",
   "metadata": {},
   "outputs": [
    {
     "name": "stdout",
     "output_type": "stream",
     "text": [
      "812 µs ± 112 µs per loop (mean ± std. dev. of 7 runs, 1,000 loops each)\n"
     ]
    }
   ],
   "source": [
    "# Refactor the code for the while loop with the %timeit \n",
    "# magic command and write a for loop that will generate the 1,500 latitudes.\n",
    "%timeit latitudes(1500)"
   ]
  },
  {
   "cell_type": "code",
   "execution_count": null,
   "id": "143ef6cb",
   "metadata": {},
   "outputs": [],
   "source": []
  }
 ],
 "metadata": {
  "kernelspec": {
   "display_name": "Python 3 (ipykernel)",
   "language": "python",
   "name": "python3"
  },
  "language_info": {
   "codemirror_mode": {
    "name": "ipython",
    "version": 3
   },
   "file_extension": ".py",
   "mimetype": "text/x-python",
   "name": "python",
   "nbconvert_exporter": "python",
   "pygments_lexer": "ipython3",
   "version": "3.9.12"
  }
 },
 "nbformat": 4,
 "nbformat_minor": 5
}
